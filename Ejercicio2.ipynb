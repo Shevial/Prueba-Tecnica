{
 "cells": [
  {
   "cell_type": "markdown",
   "id": "576b9ec0-f16b-4a5a-922a-8cdd3205cc33",
   "metadata": {},
   "source": [
    "## 🔹 Ejercicio 2: SQL\n"
   ]
  },
  {
   "cell_type": "markdown",
   "id": "1fc34666-0f68-46d5-903e-ea3ac0aa5776",
   "metadata": {},
   "source": [
    "Dada la tabla ventas con las siguientes columnas:  \n",
    "\n",
    "    id (INT, clave primaria)  \n",
    "    producto (VARCHAR)  \n",
    "    cantidad (INT)  \n",
    "    fecha (DATE)  \n",
    "    \n",
    "Escribe una consulta SQL que devuelva los 3 productos más vendidos en el último mes.\n"
   ]
  },
  {
   "cell_type": "code",
   "execution_count": null,
   "id": "6feae9f0-5d11-4238-ac8a-dbe7903eecec",
   "metadata": {},
   "outputs": [],
   "source": [
    "SELECT producto, SUM(cantidad) AS total_vendido\n",
    "FROM ventas\n",
    "WHERE fecha >= DATE_TRUNC('month', CURRENT_DATE - INTERVAL '1 month')\n",
    "  AND fecha < DATE_TRUNC('month', CURRENT_DATE)\n",
    "GROUP BY producto\n",
    "ORDER BY total_vendido DESC\n",
    "LIMIT 3; "
   ]
  },
  {
   "cell_type": "markdown",
   "id": "93b9c3ed-88f4-4a1a-813e-3b21d3342a94",
   "metadata": {},
   "source": [
    "``CURRENT_DATE - INTERVAL '1 month'`` → Resta 1 mes a la fecha actual.  \n",
    "``DATE_TRUNC('month', ...)`` → Redondea la fecha al primer día del mes.  \n",
    "``fecha >= primer_día_mes_anterior`` y ``fecha < primer_día_mes_actual ``→ Obtiene solo las ventas del mes anterior."
   ]
  },
  {
   "cell_type": "code",
   "execution_count": null,
   "id": "1f47107e-b976-49ab-8999-02afbd240ebb",
   "metadata": {},
   "outputs": [],
   "source": []
  }
 ],
 "metadata": {
  "kernelspec": {
   "display_name": "Python [conda env:base] *",
   "language": "python",
   "name": "conda-base-py"
  },
  "language_info": {
   "codemirror_mode": {
    "name": "ipython",
    "version": 3
   },
   "file_extension": ".py",
   "mimetype": "text/x-python",
   "name": "python",
   "nbconvert_exporter": "python",
   "pygments_lexer": "ipython3",
   "version": "3.12.7"
  }
 },
 "nbformat": 4,
 "nbformat_minor": 5
}
