{
 "cells": [
  {
   "cell_type": "markdown",
   "id": "881a82cf-a918-4469-9d7c-e233d7d0284a",
   "metadata": {},
   "source": [
    "🔹 Ejercicio 1: Python\n",
    "Escribe una función en Python que reciba una lista de números y devuelva otra lista con los números duplicados eliminados, manteniendo el orden original.\n",
    "📌 Ejemplo:\n",
    "python\n",
    "CopiarEditar\n",
    "entrada = [3, 5, 2, 3, 8, 5, 2, 10]  \n",
    "salida = [3, 5, 2, 8, 10]\n"
   ]
  },
  {
   "cell_type": "markdown",
   "id": "d62fadc4-fc04-4b90-a928-a16422ea5c50",
   "metadata": {},
   "source": [
    "### Con un bucle for"
   ]
  },
  {
   "cell_type": "markdown",
   "id": "8b0e1b2d-9b89-4914-aa4b-cf123483fd1c",
   "metadata": {},
   "source": [
    "Y un ``set()`` para almacenar los números ya vistos.\n"
   ]
  },
  {
   "cell_type": "code",
   "execution_count": 38,
   "id": "5fae01c5-d0a6-4ac9-8ff4-36208d791b8d",
   "metadata": {},
   "outputs": [
    {
     "name": "stdout",
     "output_type": "stream",
     "text": [
      "[3, 5, 2, 8, 10]\n"
     ]
    }
   ],
   "source": [
    "def eliminaDuplicados(entrada):\n",
    "    salida = []\n",
    "    repetidos = set()\n",
    "    for numeros in entrada:\n",
    "        if numeros not in repetidos:\n",
    "            salida.append(numeros)\n",
    "            repetidos.add(numeros)\n",
    "    return salida\n",
    "\n",
    "##PRUEBAS\n",
    "entrada = [3, 5, 2, 3, 8, 5, 2, 10]\n",
    "print(eliminaDuplicados(entrada))"
   ]
  },
  {
   "cell_type": "markdown",
   "id": "f176c475-0a56-4d40-a24a-0542485bdf67",
   "metadata": {},
   "source": [
    "Usando bibliotecas: "
   ]
  },
  {
   "cell_type": "markdown",
   "id": "02fd2a13-7628-4eef-ac89-ece951bef033",
   "metadata": {},
   "source": [
    "## Usando bibliotecas"
   ]
  },
  {
   "cell_type": "code",
   "execution_count": 14,
   "id": "0dabfdef-5f63-43c0-9920-a23642a8e815",
   "metadata": {},
   "outputs": [
    {
     "data": {
      "text/plain": [
       "[3, 5, 2, 8, 10]"
      ]
     },
     "execution_count": 14,
     "metadata": {},
     "output_type": "execute_result"
    }
   ],
   "source": [
    "from collections import OrderedDict\n",
    "\n",
    "def eliminaDuplicados(lista):\n",
    "    return list(OrderedDict.fromkeys(lista))\n",
    "\n",
    "entrada = [3, 5, 2, 3, 8, 5, 2, 10]\n",
    "eliminaDuplicados(entrada)"
   ]
  },
  {
   "cell_type": "code",
   "execution_count": null,
   "id": "91262eb3-e7d0-4172-aae3-bbc87ad0d651",
   "metadata": {},
   "outputs": [],
   "source": []
  }
 ],
 "metadata": {
  "kernelspec": {
   "display_name": "Python [conda env:base] *",
   "language": "python",
   "name": "conda-base-py"
  },
  "language_info": {
   "codemirror_mode": {
    "name": "ipython",
    "version": 3
   },
   "file_extension": ".py",
   "mimetype": "text/x-python",
   "name": "python",
   "nbconvert_exporter": "python",
   "pygments_lexer": "ipython3",
   "version": "3.12.7"
  }
 },
 "nbformat": 4,
 "nbformat_minor": 5
}
