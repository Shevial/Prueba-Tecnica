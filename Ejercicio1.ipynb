{
 "cells": [
  {
   "cell_type": "markdown",
   "id": "b7b1bb2f-1708-478a-8d2a-ac36ecd65d17",
   "metadata": {},
   "source": [
    "##  Ejercicio 1: Python"
   ]
  },
  {
   "cell_type": "markdown",
   "id": "881a82cf-a918-4469-9d7c-e233d7d0284a",
   "metadata": {},
   "source": [
    "Escribe una función en Python que reciba una lista de números y devuelva otra lista con los números duplicados eliminados, manteniendo el orden original.  \n",
    "📌 Ejemplo:  \n",
    "entrada = [3, 5, 2, 3, 8, 5, 2, 10]  \n",
    "salida = [3, 5, 2, 8, 10]\n"
   ]
  },
  {
   "cell_type": "markdown",
   "id": "d62fadc4-fc04-4b90-a928-a16422ea5c50",
   "metadata": {},
   "source": [
    "### Con un bucle for"
   ]
  },
  {
   "cell_type": "markdown",
   "id": "8b0e1b2d-9b89-4914-aa4b-cf123483fd1c",
   "metadata": {},
   "source": [
    "Y un ``set()`` para almacenar los números ya vistos."
   ]
  },
  {
   "cell_type": "code",
   "execution_count": 38,
   "id": "5fae01c5-d0a6-4ac9-8ff4-36208d791b8d",
   "metadata": {},
   "outputs": [
    {
     "name": "stdout",
     "output_type": "stream",
     "text": [
      "[3, 5, 2, 8, 10]\n"
     ]
    }
   ],
   "source": [
    "def eliminaDuplicados(entrada):\n",
    "    salida = []\n",
    "    repetidos = set()\n",
    "    for numeros in entrada:\n",
    "        if numeros not in repetidos:\n",
    "            salida.append(numeros)\n",
    "            repetidos.add(numeros)\n",
    "    return salida\n",
    "\n",
    "##PRUEBAS\n",
    "entrada = [3, 5, 2, 3, 8, 5, 2, 10]\n",
    "print(eliminaDuplicados(entrada))"
   ]
  },
  {
   "cell_type": "markdown",
   "id": "f176c475-0a56-4d40-a24a-0542485bdf67",
   "metadata": {},
   "source": [
    "### Con un list comprehension\n"
   ]
  },
  {
   "cell_type": "markdown",
   "id": "7741626e-612c-4ec9-b49e-a0becd714ab9",
   "metadata": {},
   "source": [
    "``set()`` para almacenar los números ya vistos.\n",
    "``num not in repetidos``  Filtra solo los números que aún no están en repetidos  \n",
    "\n",
    "``repetidos.add(num) `` Agrega el número a repetidos (sin devolverlo, devuelve ``none``). \n",
    "\n",
    "``or num`` Convierte resultado sea num en la lista, ya que ``None or num == num``"
   ]
  },
  {
   "cell_type": "code",
   "execution_count": 50,
   "id": "2a30d439-d146-4fac-ab04-16a6ad0e0d2c",
   "metadata": {},
   "outputs": [
    {
     "name": "stdout",
     "output_type": "stream",
     "text": [
      "[3, 5, 2, 8, 10]\n"
     ]
    }
   ],
   "source": [
    "def eliminaDuplicados(entrada):\n",
    "    repetidos = set()\n",
    "    return [repetidos.add(num) or num for num in entrada if num not in repetidos]\n",
    "    \n",
    "\n",
    "##PRUEBAS\n",
    "entrada = [3, 5, 2, 3, 8, 5, 2, 10]\n",
    "print(eliminaDuplicados(entrada))  "
   ]
  },
  {
   "cell_type": "markdown",
   "id": "02fd2a13-7628-4eef-ac89-ece951bef033",
   "metadata": {},
   "source": [
    "### Usando bibliotecas"
   ]
  },
  {
   "cell_type": "code",
   "execution_count": 14,
   "id": "0dabfdef-5f63-43c0-9920-a23642a8e815",
   "metadata": {},
   "outputs": [
    {
     "data": {
      "text/plain": [
       "[3, 5, 2, 8, 10]"
      ]
     },
     "execution_count": 14,
     "metadata": {},
     "output_type": "execute_result"
    }
   ],
   "source": [
    "from collections import OrderedDict\n",
    "\n",
    "def eliminaDuplicados(lista):\n",
    "    return list(OrderedDict.fromkeys(lista))\n",
    "\n",
    "entrada = [3, 5, 2, 3, 8, 5, 2, 10]\n",
    "eliminaDuplicados(entrada)"
   ]
  }
 ],
 "metadata": {
  "kernelspec": {
   "display_name": "Python [conda env:base] *",
   "language": "python",
   "name": "conda-base-py"
  },
  "language_info": {
   "codemirror_mode": {
    "name": "ipython",
    "version": 3
   },
   "file_extension": ".py",
   "mimetype": "text/x-python",
   "name": "python",
   "nbconvert_exporter": "python",
   "pygments_lexer": "ipython3",
   "version": "3.12.7"
  }
 },
 "nbformat": 4,
 "nbformat_minor": 5
}
